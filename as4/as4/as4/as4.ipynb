{
 "cells": [
  {
   "cell_type": "code",
   "execution_count": 143,
   "metadata": {},
   "outputs": [],
   "source": [
    "import imageio\n",
    "import numpy as np\n",
    "import scipy"
   ]
  },
  {
   "cell_type": "code",
   "execution_count": 144,
   "metadata": {},
   "outputs": [],
   "source": [
    "# Calculate error\n",
    "def root_mean_sq_err(ref_image, gen_image):\n",
    "    n, m = gen_image.shape\n",
    "    subtracted_image = gen_image.astype(float) - ref_image.astype(float)\n",
    "    squared_image = np.square(subtracted_image)\n",
    "    mean_image = squared_image/(n*m)\n",
    "    err = np.sum(mean_image)\n",
    "    \n",
    "    return np.sqrt(err)\n"
   ]
  },
  {
   "cell_type": "code",
   "execution_count": 145,
   "metadata": {},
   "outputs": [],
   "source": [
    "def fft(image: np.ndarray) -> np.ndarray:\n",
    "    \"\"\"Applies the Fast Fourier Transform to an image and returns its result.\n",
    "\n",
    "    Arguments:\n",
    "        image: The image in spacial domain.\n",
    "\n",
    "    Returns:\n",
    "        The image in Frequency domain.\n",
    "    \"\"\"\n",
    "    freq_image = np.fft.fftn(image)\n",
    "    return freq_image\n",
    "\n",
    "def ifft(image: np.ndarray) -> np.ndarray:\n",
    "    \"\"\"Applies the Inverse Fast Fourier Transform to an image and returns its result.\n",
    "\n",
    "    Arguments:\n",
    "        image: The image in frequency domain and shifted.\n",
    "\n",
    "    Returns:\n",
    "        The image in spacial domain.\n",
    "    \"\"\"\n",
    "    spac_image = np.fft.ifftn(image)\n",
    "    return spac_image.real\n",
    "\n",
    "def pad(small: np.ndarray, big: np.ndarray) -> np.ndarray:\n",
    "    pad_size = int(big.shape[0]//2 - small.shape[0]//2)\n",
    "    padded = np.pad(small, (pad_size, pad_size), 'constant')\n",
    "    return padded"
   ]
  },
  {
   "cell_type": "code",
   "execution_count": 146,
   "metadata": {},
   "outputs": [],
   "source": [
    "def gaussian_filter(k, sigma):\n",
    "    range = np.arange((-k // 2) + 1.0, (k // 2) + 1.0)\n",
    "    x, y = np.meshgrid(range, range)\n",
    "    fil = np.exp(-(1/2) * (np.square(x) + np.square(y)) / np.square(sigma))\n",
    "    norm_filter = fil / np.sum(fil)\n",
    "    return norm_filter\n",
    "\n",
    "\n",
    "def apply_gaussian_filter(image: np.ndarray, k: int, sigma: float):\n",
    "    \"\"\"Changes the image received by applying a Gaussian blur filter to it.\n",
    "    \n",
    "    Arguments:\n",
    "        image: The original image in space domain.\n",
    "        k: Size of the side of the square matrix filter.\n",
    "        sigma: Standard deviation for the Gaussian filter generation.\n",
    "    \n",
    "    Returns:\n",
    "        A tuple containing a new image with Gaussian filter applied and the filter itself.\n",
    "    \"\"\"\n",
    "    \n",
    "    gaussian_f = gaussian_filter(k, sigma)\n",
    "    padded_filter = pad(gaussian_f, image)\n",
    "    freq_filter = fft(padded_filter)\n",
    "    freq_image = fft(image)\n",
    "    blurred_image = np.multiply(freq_image, freq_filter)\n",
    "    return np.fft.fftshift(ifft(blurred_image)), gaussian_f"
   ]
  },
  {
   "cell_type": "code",
   "execution_count": 147,
   "metadata": {},
   "outputs": [],
   "source": [
    "def clsq(image: np.ndarray, psf: np.ndarray, gamma: float) -> np.ndarray:\n",
    "    \"\"\"Constrained Least Squares method application.\n",
    "\n",
    "    Arguments:\n",
    "        image: The blurred image in frequency domain (G).\n",
    "        psf: The point-spread-function representing the blur in the image (H).\n",
    "        gamma: The multiplication parameter to the laplacian operator.\n",
    "\n",
    "    Returns:\n",
    "        The restored image after CLSQ application.\n",
    "    \"\"\"\n",
    "    laplacian = np.array([[0, -1, 0], [-1, 4, -1], [0, -1, 0]])\n",
    "    padded_lap = pad(laplacian, image)\n",
    "    padded_psf = pad(psf, image)\n",
    "    G = fft(image)\n",
    "    P = fft(padded_lap)\n",
    "    H = fft(padded_psf)\n",
    "\n",
    "    restored_image = (H.conj()/(np.square(np.abs(H)) + (gamma * np.square(np.abs(P))))) * G\n",
    "    restored_space_image = np.fft.fftshift(ifft(restored_image))\n",
    "    restored_space_image = np.clip(restored_space_image, 0, 255)\n",
    "    return restored_space_image.astype(np.uint8)"
   ]
  },
  {
   "cell_type": "code",
   "execution_count": 148,
   "metadata": {},
   "outputs": [],
   "source": [
    "def conv_point_2d(image, weights, x, y, a, b):\n",
    "    sub_image = image[x-a:x+a+1, y-b:y+b+1]\n",
    "    res = np.sum(np.multiply(sub_image, weights))\n",
    "    return int(res)\n",
    "\n",
    "def convolve_2d(big, small):\n",
    "    rows, cols = big.shape\n",
    "    n, m = small.shape\n",
    "    a = int(rows//2 - n//2)\n",
    "    b = int(cols//2 - m//2)\n",
    "    small_flipped = np.flip(np.flip(small, 0), 1)\n",
    "    big_padded = np.pad(big, (a, b), 'edge')\n",
    "    result = np.zeros(big.shape)\n",
    "\n",
    "    for i in range(a, rows):\n",
    "        for j in range(b, cols):\n",
    "            result[i-a, j-b] = conv_point_2d(big_padded, small_flipped, i, j, a, b)\n",
    "    \n",
    "    return result"
   ]
  },
  {
   "cell_type": "code",
   "execution_count": 149,
   "metadata": {},
   "outputs": [],
   "source": [
    "def get_motion_psf(\n",
    "        dim_x: int, dim_y: int, degree_angle: float, num_pixel_dist: int = 20)-> np.ndarray:\n",
    "    \"\"\"Essa função retorna uma array representando a PSF para um dado ângulo em graus\n",
    "\n",
    "    Parameters:\n",
    "    -----------\n",
    "        dim_x: int\n",
    "            The width of the image.\n",
    "        dim_y: int\n",
    "            The height of the image.\n",
    "        degree_angle: float\n",
    "            The angle of the motion blur. Should be in degrees. [0, 360)\n",
    "        num_pixel_dist: int\n",
    "            The distance of the motion blur. [0, \\infinity).\n",
    "            Remember that the distance is measured in pixels.\n",
    "            Greater will be more blurry.\n",
    "    \n",
    "    Returns:\n",
    "    --------\n",
    "        np.ndarray\n",
    "            The point-spread array associated with the motion blur.\n",
    "\n",
    "    \"\"\"\n",
    "    psf = np.zeros((dim_x, dim_y))\n",
    "    center = np.array([dim_x-1, dim_y-1])//2\n",
    "    radians = degree_angle/180*np.pi\n",
    "    phase = np.array([np.cos(radians), np.sin(radians)])\n",
    "    for i in range(num_pixel_dist):\n",
    "        offset_x = int(center[0] - np.round_(i*phase[0]))\n",
    "        offset_y = int(center[1] - np.round_(i*phase[1]))\n",
    "        psf[offset_x, offset_y] = 1 \n",
    "    psf /= psf.sum()\n",
    " \n",
    "    return psf \n",
    "\n",
    "def richardson_lucy_filter(\n",
    "        image: np.ndarray, psf: np.ndarray, max_iter: int=50) -> np.ndarray:\n",
    "    \"\"\"\n",
    "    Parameters:\n",
    "    ----------\n",
    "        image : np.ndarray\n",
    "            Your degraded image (grayscale)\n",
    "        psf : np.ndarray\n",
    "        max_iter : int\n",
    "            maximum number of iterations\n",
    "    Returns\n",
    "    -------\n",
    "        np.ndarray\n",
    "    \"\"\"\n",
    "    O_k = np.ones(image.shape)\n",
    "    O_next = np.copy(O_k)\n",
    "    # H = pad(psf, image)\n",
    "    # H = fft(H)\n",
    "    # I = fft(image)\n",
    "    epsilon = 0.001\n",
    "    for _ in range(max_iter): \n",
    "        denom = convolve_2d(O_k, psf)\n",
    "        frac = image/(denom + epsilon)\n",
    "        partial = convolve_2d(frac, np.flip(psf)) \n",
    "        O_next = O_k * partial\n",
    "        O_k = O_next\n",
    "    \n",
    "    restored = ifft(O_k)\n",
    "    restored = np.clip(restored, 0, 255)\n",
    "    print(restored.max(), restored.min())\n",
    "    return restored.astype(np.uint8)\n"
   ]
  },
  {
   "cell_type": "code",
   "execution_count": 150,
   "metadata": {},
   "outputs": [
    {
     "name": "stdout",
     "output_type": "stream",
     "text": [
      "0.0 0.0\n",
      "53.2760\n"
     ]
    }
   ],
   "source": [
    "BASE_DIR = '../tests/resources/'\n",
    "in_image_filename = 'img_45.jpg'\n",
    "method = 2\n",
    "if method == 1:\n",
    "    k = 3\n",
    "    sigma = 2.0\n",
    "    gamma = 0.1\n",
    "    base_image = imageio.imread(BASE_DIR + in_image_filename)\n",
    "    degraded, psf = apply_gaussian_filter(base_image, k, sigma)\n",
    "    restored = clsq(degraded, psf, gamma)\n",
    "else:\n",
    "    angle = 45\n",
    "    steps = 20\n",
    "    base_image = imageio.imread(BASE_DIR + in_image_filename)\n",
    "    restored = richardson_lucy_filter(base_image, get_motion_psf(base_image.shape[0], base_image.shape[1], degree_angle=45), steps)\n",
    "\n",
    "\n",
    "rmse = root_mean_sq_err(base_image, restored)\n",
    "print(f'{rmse:.4f}')"
   ]
  },
  {
   "cell_type": "code",
   "execution_count": 151,
   "metadata": {},
   "outputs": [
    {
     "data": {
      "text/plain": [
       "Text(0.5, 1.0, 'Restored image')"
      ]
     },
     "execution_count": 151,
     "metadata": {},
     "output_type": "execute_result"
    },
    {
     "data": {
      "image/png": "[encoded data removed]",
      "text/plain": [
       "<Figure size 1440x720 with 2 Axes>"
      ]
     },
     "metadata": {
      "needs_background": "light"
     },
     "output_type": "display_data"
    }
   ],
   "source": [
    "import matplotlib.pyplot as plt\n",
    "\n",
    "plt.figure(figsize=(20, 10))\n",
    "plt.subplot(131)\n",
    "plt.imshow(base_image, \"gray\", vmin=0, vmax=255)\n",
    "plt.title(\"Original image\")\n",
    "# plt.subplot(132)\n",
    "# plt.imshow(degraded, \"gray\")\n",
    "# plt.title(\"Degraded image\")\n",
    "plt.subplot(133)\n",
    "plt.imshow(restored, \"gray\")\n",
    "plt.title(\"Restored image\")"
   ]
  }
 ],
 "metadata": {
  "kernelspec": {
   "display_name": "Python 3.10.4 ('scc5830')",
   "language": "python",
   "name": "python3"
  },
  "language_info": {
   "codemirror_mode": {
    "name": "ipython",
    "version": 3
   },
   "file_extension": ".py",
   "mimetype": "text/x-python",
   "name": "python",
   "nbconvert_exporter": "python",
   "pygments_lexer": "ipython3",
   "version": "3.10.4"
  },
  "orig_nbformat": 4,
  "vscode": {
   "interpreter": {
    "hash": "539907097b74644243b7283f5df0b424057f4b55fe8fc7a0a86998f5a85bc580"
   }
  }
 },
 "nbformat": 4,
 "nbformat_minor": 2
}
