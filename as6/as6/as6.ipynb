{
 "cells": [
  {
   "cell_type": "code",
   "execution_count": 1,
   "metadata": {},
   "outputs": [],
   "source": [
    "import imageio.v2 as imageio\n",
    "import numpy as np\n",
    "import random\n",
    "import os\n"
   ]
  },
  {
   "cell_type": "code",
   "execution_count": 2,
   "metadata": {},
   "outputs": [],
   "source": [
    "# Calculate error\n",
    "def root_mean_sq_err(ref_image, gen_image):\n",
    "    m, n = gen_image.shape\n",
    "    subtracted_image = gen_image.astype(float) - ref_image.astype(float)\n",
    "    squared_image = np.square(subtracted_image)\n",
    "    mean_image = squared_image / (n * m)\n",
    "    err = np.sum(mean_image)\n",
    "\n",
    "    return np.sqrt(err)\n"
   ]
  },
  {
   "cell_type": "code",
   "execution_count": 3,
   "metadata": {},
   "outputs": [],
   "source": [
    "def create_XY_features(M, N):\n",
    "    X = np.tile(np.reshape(np.arange(M), (M, 1)), (1, N))\n",
    "    Y = np.tile(np.reshape(np.arange(N), (N, 1)), (M, 1))\n",
    "    X = np.reshape(X, (M * N, 1))\n",
    "    Y = np.reshape(Y, (M * N, 1))\n",
    "    XY = np.concatenate(X, Y, axis=1)\n",
    "    return XY\n",
    "\n",
    "\n",
    "def lum_reshape(image, M, N):\n",
    "    return np.reshape(\n",
    "        (0.299 * image[:, :, 0]) + (0.587 * image[:, :, 1]) + (0.114 * image[:, :, 2]),\n",
    "        (M * N, 1),\n",
    "    )\n"
   ]
  },
  {
   "cell_type": "code",
   "execution_count": 4,
   "metadata": {},
   "outputs": [],
   "source": [
    "BASE_PATH = '../tests/resources/TestCases-InputImages'\n",
    "image_filename = os.path.join(BASE_PATH, 'image_1.png')\n",
    "ref_image_filename = os.path.join(BASE_PATH, 'image_1_ref1.png')\n",
    "attributes_type = 1\n",
    "k = 5\n",
    "n = 10\n",
    "seed = 42 #nice\n",
    "\n",
    "image = imageio.imread(image_filename).astype(np.float32)\n",
    "ref_image = imageio.imread(ref_image_filename).astype(np.float32)\n",
    "\n",
    "M, N, _ = image.shape\n",
    "\n",
    "match attributes_type:\n",
    "    case 1:\n",
    "        features = np.reshape(image, (M*N, 3))\n",
    "    case 2:\n",
    "        XY = create_XY_features(M, N)\n",
    "        features = np.reshape(image, (M*N, 3))\n",
    "        features = np.concatenate(features, XY, axis=1)\n",
    "    case 3:\n",
    "        features = lum_reshape(image, M, N)\n",
    "    case 4:\n",
    "        features = lum_reshape(image, M, N)\n",
    "        features = np.concatenate(features, create_XY_features(M, N), axis=1)\n",
    "    case _:\n",
    "        exit(1)\n",
    "\n"
   ]
  }
 ],
 "metadata": {
  "kernelspec": {
   "display_name": "Python 3.10.5 64-bit ('scc5830')",
   "language": "python",
   "name": "python3"
  },
  "language_info": {
   "codemirror_mode": {
    "name": "ipython",
    "version": 3
   },
   "file_extension": ".py",
   "mimetype": "text/x-python",
   "name": "python",
   "nbconvert_exporter": "python",
   "pygments_lexer": "ipython3",
   "version": "3.10.5"
  },
  "orig_nbformat": 4,
  "vscode": {
   "interpreter": {
    "hash": "2e22460957ec71c067c9e758ae7b7c144cf206edfc2ecb157d53c61dd27fd090"
   }
  }
 },
 "nbformat": 4,
 "nbformat_minor": 2
}
