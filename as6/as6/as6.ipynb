{
 "cells": [
  {
   "cell_type": "code",
   "execution_count": 103,
   "metadata": {},
   "outputs": [],
   "source": [
    "from collections import defaultdict\n",
    "from typing import Dict, Tuple\n",
    "\n",
    "import imageio.v2 as imageio\n",
    "import numpy as np\n",
    "import numpy.typing as npt\n",
    "import random\n",
    "import os\n"
   ]
  },
  {
   "cell_type": "code",
   "execution_count": 104,
   "metadata": {},
   "outputs": [],
   "source": [
    "# Calculate error\n",
    "def root_mean_sq_err(ref_image, gen_image):\n",
    "    m, n, _ = gen_image.shape\n",
    "    subtracted_image = gen_image - ref_image\n",
    "    squared_image = np.square(subtracted_image)\n",
    "    mean_image = squared_image / (n * m)\n",
    "    err = np.sum(mean_image)\n",
    "\n",
    "    return np.sqrt(err)\n"
   ]
  },
  {
   "cell_type": "code",
   "execution_count": 105,
   "metadata": {},
   "outputs": [],
   "source": [
    "def distance(\n",
    "    query: npt.NDArray[np.float32], reference: npt.NDArray[np.float32]\n",
    ") -> float:\n",
    "    return np.linalg.norm(query - reference)\n",
    "\n",
    "\n",
    "def find_closest_cluster(\n",
    "    feature: npt.NDArray[np.float32], centroids: npt.NDArray[np.float32]\n",
    ") -> Tuple[int, npt.NDArray[np.float32]]:\n",
    "    centr_ranks = [\n",
    "        (idx, distance(feature, centroid)) for idx, centroid in enumerate(centroids)\n",
    "    ]\n",
    "    centr_ranks.sort(key=lambda x: x[1])\n",
    "    return centr_ranks[0]\n"
   ]
  },
  {
   "cell_type": "code",
   "execution_count": 106,
   "metadata": {},
   "outputs": [],
   "source": [
    "def k_means(\n",
    "    image: npt.NDArray[np.float32],\n",
    "    features: npt.NDArray[np.float32],\n",
    "    k: int,\n",
    "    n: int,\n",
    "    M: int,\n",
    "    N: int,\n",
    "    seed: int,\n",
    ") -> Dict[int, npt.NDArray[np.float32]]:\n",
    "    random.seed(seed)\n",
    "    ids = np.sort(random.sample(range(0, M * N), k))\n",
    "    centroids = features[ids]\n",
    "    clustered = defaultdict(list)\n",
    "    loc_centroid = dict()\n",
    "    for _ in range(n):\n",
    "        clustered.clear()\n",
    "        for index, feature in enumerate(features):\n",
    "            closest_idx, _ = find_closest_cluster(feature, centroids)\n",
    "            clustered[closest_idx].append(feature)\n",
    "            loc_centroid[index] = centroids[closest_idx]\n",
    "        for idx, feats in clustered.items():\n",
    "            centroid = np.mean(feats)\n",
    "            centroids[idx] = centroid\n",
    "    return loc_centroid\n"
   ]
  },
  {
   "cell_type": "code",
   "execution_count": 107,
   "metadata": {},
   "outputs": [],
   "source": [
    "def create_XY_features(M, N):\n",
    "    X = np.tile(np.reshape(np.arange(M), (M, 1)), (1, N))\n",
    "    Y = np.tile(np.reshape(np.arange(N), (N, 1)), (M, 1))\n",
    "    X = np.reshape(X, (M * N, 1))\n",
    "    Y = np.reshape(Y, (M * N, 1))\n",
    "    XY = np.concatenate(X, Y, axis=1)\n",
    "    return XY\n",
    "\n",
    "\n",
    "def lum_reshape(image, M, N):\n",
    "    return np.reshape(\n",
    "        (0.299 * image[:, :, 0]) + (0.587 * image[:, :, 1]) + (0.114 * image[:, :, 2]),\n",
    "        (M * N, 1),\n",
    "    )\n"
   ]
  },
  {
   "cell_type": "code",
   "execution_count": 108,
   "metadata": {},
   "outputs": [],
   "source": [
    "def image_from(clusters, feat_shape, img_shape):\n",
    "    out_image = np.zeros(feat_shape, dtype=np.float32)\n",
    "    for index, centroid in clusters.items():\n",
    "        out_image[index] = centroid\n",
    "    out_image = np.reshape(out_image, img_shape)\n",
    "    return out_image"
   ]
  },
  {
   "cell_type": "code",
   "execution_count": 109,
   "metadata": {},
   "outputs": [
    {
     "name": "stdout",
     "output_type": "stream",
     "text": [
      "67.44956216210437\n"
     ]
    }
   ],
   "source": [
    "BASE_PATH = '../tests/resources/TestCases-InputImages'\n",
    "image_filename = os.path.join(BASE_PATH, 'image_1.png')\n",
    "ref_image_filename = os.path.join(BASE_PATH, 'image_1_ref1.png')\n",
    "attributes_type = 1\n",
    "k = 5\n",
    "n = 10\n",
    "seed = 42 #nice\n",
    "\n",
    "image = imageio.imread(image_filename).astype(np.float32)\n",
    "ref_image = imageio.imread(ref_image_filename).astype(np.float32)\n",
    "\n",
    "M, N, _ = image.shape\n",
    "rgb = 1\n",
    "\n",
    "match attributes_type:\n",
    "    case 1:\n",
    "        features = np.reshape(image, (M*N, 3))\n",
    "    case 2:\n",
    "        XY = create_XY_features(M, N)\n",
    "        features = np.reshape(image, (M*N, 3))\n",
    "        features = np.concatenate(features, XY, axis=1)\n",
    "    case 3:\n",
    "        features = lum_reshape(image, M, N)\n",
    "        rgb = 0\n",
    "    case 4:\n",
    "        features = lum_reshape(image, M, N)\n",
    "        features = np.concatenate(features, create_XY_features(M, N), axis=1)\n",
    "        rgb = 0\n",
    "    case _:\n",
    "        exit(1)\n",
    "\n",
    "clusters = k_means(image, features, k, n, M, N, seed)\n",
    "out_image = image_from(clusters, features.shape, (M, N, 3) if rgb else (M, N, 1))\n",
    "rmse = root_mean_sq_err(ref_image, out_image)\n",
    "print(rmse)\n"
   ]
  },
  {
   "cell_type": "code",
   "execution_count": 110,
   "metadata": {},
   "outputs": [
    {
     "data": {
      "text/plain": [
       "<matplotlib.image.AxesImage at 0x7f88fd26d870>"
      ]
     },
     "execution_count": 110,
     "metadata": {},
     "output_type": "execute_result"
    },
    {
     "data": {
      "image/png": "[encoded data removed]",
      "text/plain": [
       "<Figure size 2304x2304 with 1 Axes>"
      ]
     },
     "metadata": {
      "needs_background": "light"
     },
     "output_type": "display_data"
    }
   ],
   "source": [
    "import matplotlib.pyplot as plt\n",
    "\n",
    "plt.figure(figsize=(32, 32))\n",
    "plt.subplot(131)\n",
    "plt.imshow(out_image.astype(np.uint8))"
   ]
  }
 ],
 "metadata": {
  "kernelspec": {
   "display_name": "Python 3.10.4 ('scc5830')",
   "language": "python",
   "name": "python3"
  },
  "language_info": {
   "codemirror_mode": {
    "name": "ipython",
    "version": 3
   },
   "file_extension": ".py",
   "mimetype": "text/x-python",
   "name": "python",
   "nbconvert_exporter": "python",
   "pygments_lexer": "ipython3",
   "version": "3.10.4"
  },
  "orig_nbformat": 4,
  "vscode": {
   "interpreter": {
    "hash": "539907097b74644243b7283f5df0b424057f4b55fe8fc7a0a86998f5a85bc580"
   }
  }
 },
 "nbformat": 4,
 "nbformat_minor": 2
}
