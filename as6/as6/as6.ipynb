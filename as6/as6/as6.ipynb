{
 "cells": [
  {
   "cell_type": "code",
   "execution_count": 41,
   "metadata": {},
   "outputs": [],
   "source": [
    "from collections import defaultdict\n",
    "from typing import List, Tuple\n",
    "\n",
    "import imageio.v2 as imageio\n",
    "import numpy as np\n",
    "import numpy.typing as npt\n",
    "import random\n",
    "import os\n"
   ]
  },
  {
   "cell_type": "code",
   "execution_count": 42,
   "metadata": {},
   "outputs": [],
   "source": [
    "# Calculate error\n",
    "def root_mean_sq_err(ref_image, gen_image):\n",
    "    m, n, _ = gen_image.shape\n",
    "    subtracted_image = gen_image - ref_image\n",
    "    squared_image = np.square(subtracted_image)\n",
    "    mean_image = squared_image / (n * m)\n",
    "    err = np.sum(mean_image)\n",
    "\n",
    "    return np.sqrt(err)\n"
   ]
  },
  {
   "cell_type": "code",
   "execution_count": 43,
   "metadata": {},
   "outputs": [],
   "source": [
    "def distance(\n",
    "    query: npt.NDArray[np.float32], reference: npt.NDArray[np.float32]\n",
    ") -> float:\n",
    "    return np.linalg.norm(query - reference)\n",
    "\n",
    "\n",
    "def find_closest_cluster(\n",
    "    feature: npt.NDArray[np.float32], centroids: List[npt.NDArray[np.float32]]\n",
    ") -> int:\n",
    "    centr_ranks = [distance(feature, centroid) for centroid in centroids]\n",
    "    closest = np.argmin(centr_ranks)\n",
    "    return closest\n"
   ]
  },
  {
   "cell_type": "code",
   "execution_count": 44,
   "metadata": {},
   "outputs": [],
   "source": [
    "def k_means(\n",
    "    features: npt.NDArray[np.float32],\n",
    "    k: int,\n",
    "    n: int,\n",
    "    M: int,\n",
    "    N: int,\n",
    "    seed: int,\n",
    ") -> List[int]:\n",
    "    random.seed(seed)\n",
    "    ids = np.sort(random.sample(range(0, M * N), k))\n",
    "    centroids = np.array(features[ids], copy=True)\n",
    "    clusters = np.zeros(features.shape[0], dtype=np.uint8)\n",
    "    for _ in range(n):\n",
    "        for index, feature in enumerate(features):\n",
    "            closest_idx = find_closest_cluster(feature, centroids)\n",
    "            clusters[index] = closest_idx\n",
    "        for c in range(k):\n",
    "            feat_idx = np.expand_dims(clusters == c, axis=1)\n",
    "            feat_idx = np.repeat(feat_idx, features.shape[1], axis=1)\n",
    "            sub_features = np.ma.masked_array(features, feat_idx)\n",
    "            centroid = sub_features.mean(axis=0)\n",
    "            centroids[c] = centroid\n",
    "    return centroids, clusters\n"
   ]
  },
  {
   "cell_type": "code",
   "execution_count": 45,
   "metadata": {},
   "outputs": [],
   "source": [
    "def create_XY_features(M, N):\n",
    "    X = np.tile(np.reshape(np.arange(M), (M, 1)), (1, N))\n",
    "    Y = np.tile(np.reshape(np.arange(N), (N, 1)), (M, 1))\n",
    "    X = np.reshape(X, (M * N, 1))\n",
    "    Y = np.reshape(Y, (M * N, 1))\n",
    "    XY = np.concatenate((X, Y), axis=1)\n",
    "    return XY\n",
    "\n",
    "\n",
    "def lum_reshape(image, M, N):\n",
    "    return np.reshape(\n",
    "        (0.299 * image[:, :, 0]) + (0.587 * image[:, :, 1]) + (0.114 * image[:, :, 2]),\n",
    "        (M * N, 1),\n",
    "    )\n"
   ]
  },
  {
   "cell_type": "code",
   "execution_count": 46,
   "metadata": {},
   "outputs": [],
   "source": [
    "def rgb_image_from(\n",
    "    centroids: List[npt.NDArray[np.float32]],\n",
    "    clusters: List[int],\n",
    "    k: int,\n",
    "    img_shape: Tuple,\n",
    "):\n",
    "    out_image = centroids[clusters % k]\n",
    "    out_image = np.reshape(out_image, img_shape)\n",
    "    return out_image\n",
    "\n",
    "\n",
    "def gray_image_from(clusters, feat_shape, img_shape):\n",
    "    out_image = np.zeros(feat_shape, dtype=np.float32)\n",
    "    for index, centroid in clusters.items():\n",
    "        out_image[index] = centroid\n",
    "    out_image = np.reshape(out_image, img_shape)\n",
    "    return out_image\n"
   ]
  },
  {
   "cell_type": "code",
   "execution_count": 47,
   "metadata": {},
   "outputs": [
    {
     "name": "stdout",
     "output_type": "stream",
     "text": [
      "263.90814\n"
     ]
    }
   ],
   "source": [
    "BASE_PATH = '../tests/resources/TestCases-InputImages'\n",
    "image_filename = os.path.join(BASE_PATH, 'image_1.png')\n",
    "ref_image_filename = os.path.join(BASE_PATH, 'image_1_ref1.png')\n",
    "attributes_type = 1\n",
    "k = 5\n",
    "n = 10\n",
    "seed = 42 #nice\n",
    "\n",
    "image = imageio.imread(image_filename).astype(np.float32)\n",
    "ref_image = imageio.imread(ref_image_filename).astype(np.float32)\n",
    "\n",
    "M, N, _ = image.shape\n",
    "\n",
    "match attributes_type:\n",
    "    case 1:\n",
    "        features = np.reshape(image, (M*N, 3))\n",
    "        centroids, clusters = k_means(features, k, n, M, N, seed)\n",
    "        out_image = rgb_image_from(centroids, clusters, k, (M, N, 3))\n",
    "    case 2:\n",
    "        XY = create_XY_features(M, N)\n",
    "        features = np.reshape(image, (M*N, 3))\n",
    "        features = np.concatenate((features, XY), axis=1)\n",
    "        centroids, clusters = k_means(features, k, n, M, N, seed)\n",
    "        out_image = rgb_image_from(centroids, clusters, features.shape, (M, N, 3))\n",
    "    case 3:\n",
    "        features = lum_reshape(image, M, N)\n",
    "        rgb = 0\n",
    "        clusters = k_means(features, k, n, M, N, seed)\n",
    "        out_image = gray_image_from(clusters, features.shape, (M, N, 1))\n",
    "    case 4:\n",
    "        features = lum_reshape(image, M, N)\n",
    "        features = np.concatenate((features, create_XY_features(M, N)), axis=1)\n",
    "        rgb = 0\n",
    "        clusters = k_means(features, k, n, M, N, seed)\n",
    "        out_image = gray_image_from(clusters, features.shape, (M, N, 1))\n",
    "    case _:\n",
    "        exit(1)\n",
    "\n",
    "rmse = root_mean_sq_err(ref_image, out_image)\n",
    "print(rmse)\n"
   ]
  },
  {
   "cell_type": "code",
   "execution_count": 48,
   "metadata": {},
   "outputs": [
    {
     "data": {
      "text/plain": [
       "<matplotlib.image.AxesImage at 0x7ffba82d3d00>"
      ]
     },
     "execution_count": 48,
     "metadata": {},
     "output_type": "execute_result"
    },
    {
     "data": {
      "image/png": "[encoded data removed]",
      "text/plain": [
       "<Figure size 2304x2304 with 1 Axes>"
      ]
     },
     "metadata": {
      "needs_background": "light"
     },
     "output_type": "display_data"
    }
   ],
   "source": [
    "import matplotlib.pyplot as plt\n",
    "\n",
    "plt.figure(figsize=(32, 32))\n",
    "plt.subplot(131)\n",
    "plt.imshow(out_image.astype(np.uint8))"
   ]
  },
  {
   "cell_type": "code",
   "execution_count": 49,
   "metadata": {},
   "outputs": [
    {
     "data": {
      "text/plain": [
       "(96, 96, 3)"
      ]
     },
     "execution_count": 49,
     "metadata": {},
     "output_type": "execute_result"
    }
   ],
   "source": [
    "out_image.shape\n"
   ]
  }
 ],
 "metadata": {
  "kernelspec": {
   "display_name": "Python 3.10.5 64-bit ('scc5830')",
   "language": "python",
   "name": "python3"
  },
  "language_info": {
   "codemirror_mode": {
    "name": "ipython",
    "version": 3
   },
   "file_extension": ".py",
   "mimetype": "text/x-python",
   "name": "python",
   "nbconvert_exporter": "python",
   "pygments_lexer": "ipython3",
   "version": "3.10.5"
  },
  "orig_nbformat": 4,
  "vscode": {
   "interpreter": {
    "hash": "2e22460957ec71c067c9e758ae7b7c144cf206edfc2ecb157d53c61dd27fd090"
   }
  }
 },
 "nbformat": 4,
 "nbformat_minor": 2
}
