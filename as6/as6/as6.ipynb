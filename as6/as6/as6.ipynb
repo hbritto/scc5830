{
 "cells": [
  {
   "cell_type": "code",
   "execution_count": 69,
   "metadata": {},
   "outputs": [],
   "source": [
    "from collections import defaultdict\n",
    "from typing import List, Tuple\n",
    "\n",
    "import imageio.v2 as imageio\n",
    "import numpy as np\n",
    "import numpy.typing as npt\n",
    "import random\n",
    "import os\n"
   ]
  },
  {
   "cell_type": "code",
   "execution_count": 70,
   "metadata": {},
   "outputs": [],
   "source": [
    "# Calculate error\n",
    "def rmse(ref, gen):\n",
    "    m, n = gen.shape\n",
    "    subtracted_image = gen.astype(float) - ref.astype(float)\n",
    "    squared_image = np.square(subtracted_image)\n",
    "    mean_image = squared_image / (n * m)\n",
    "    err = np.sum(mean_image)\n",
    "\n",
    "    return np.sqrt(err)\n",
    "\n",
    "def root_mean_sq_err(ref_image, gen_image):\n",
    "    _, _, c = gen_image.shape\n",
    "    if c == 1:\n",
    "        return rmse(ref_image, np.squeeze(gen_image))\n",
    "    else:\n",
    "        err = [rmse(ref_image[:, :, i], gen_image[:, :, i]) for i in range(c)]\n",
    "        return np.mean(err)\n"
   ]
  },
  {
   "cell_type": "code",
   "execution_count": 71,
   "metadata": {},
   "outputs": [],
   "source": [
    "def distance(\n",
    "    features: npt.NDArray[np.float32], centroid: npt.NDArray[np.float32]\n",
    ") -> float:\n",
    "    return np.sqrt(np.sum(np.power(features - centroid, 2), axis=1))\n"
   ]
  },
  {
   "cell_type": "code",
   "execution_count": 72,
   "metadata": {},
   "outputs": [],
   "source": [
    "def init_centroids(features, seed, M, N, k):\n",
    "    random.seed(seed)\n",
    "    ids = np.sort(random.sample(range(0, M * N), k))\n",
    "    centroids = np.array(features[ids])\n",
    "    return centroids\n"
   ]
  },
  {
   "cell_type": "code",
   "execution_count": 73,
   "metadata": {},
   "outputs": [],
   "source": [
    "def k_means(\n",
    "    features: npt.NDArray[np.float32],\n",
    "    k: int,\n",
    "    n: int,\n",
    "    M: int,\n",
    "    N: int,\n",
    "    seed: int,\n",
    ") -> List[int]:\n",
    "    centroids = init_centroids(features, seed, M, N, k)\n",
    "    clusters = np.zeros(features.shape[0], dtype=np.float32)\n",
    "\n",
    "    for _ in range(n):\n",
    "        distances = np.zeros((features.shape[0], k), dtype=np.float32)\n",
    "        for cluster in range(k):\n",
    "            centroid = np.full(features.shape, centroids[cluster])\n",
    "            dist = distance(features, centroid)\n",
    "            distances[:, cluster] = dist\n",
    "\n",
    "        clusters = np.argmin(distances, axis=1)\n",
    "        for cluster in range(k):\n",
    "            centroids[cluster] = np.mean(\n",
    "                features[np.where(clusters == cluster)], axis=0\n",
    "            )\n",
    "    return centroids, clusters\n"
   ]
  },
  {
   "cell_type": "code",
   "execution_count": 74,
   "metadata": {},
   "outputs": [],
   "source": [
    "def create_XY_features(M, N):\n",
    "    X = np.tile(np.reshape(np.arange(M), (M, 1)), (1, N))\n",
    "    Y = np.tile(np.reshape(np.arange(N), (N, 1)), (M, 1))\n",
    "    X = np.reshape(X, (M * N, 1))\n",
    "    Y = np.reshape(Y, (M * N, 1))\n",
    "    XY = np.concatenate((X, Y), axis=1)\n",
    "    return XY\n",
    "\n",
    "\n",
    "def lum_reshape(image, M, N):\n",
    "    return np.reshape(\n",
    "        (0.299 * image[:, :, 0]) + (0.587 * image[:, :, 1]) + (0.114 * image[:, :, 2]),\n",
    "        (M * N, 1),\n",
    "    )\n"
   ]
  },
  {
   "cell_type": "code",
   "execution_count": 75,
   "metadata": {},
   "outputs": [],
   "source": [
    "def _normalize_image(image):\n",
    "    image = (image - image.min()) / (image.max() - image.min())\n",
    "    image *= 255.0\n",
    "    return image\n",
    "\n",
    "\n",
    "def normalize_image(image):\n",
    "    _, _, channels = image.shape\n",
    "    if channels == 3:\n",
    "        for channel in range(channels):\n",
    "            image[:, :, channel] = _normalize_image(image[:, :, channel])\n",
    "    else:\n",
    "        image = _normalize_image(image)\n",
    "\n",
    "    return image\n",
    "\n",
    "\n",
    "def rgb_image_from(\n",
    "    centroids: List[npt.NDArray[np.float32]],\n",
    "    clusters: List[int],\n",
    "    k: int,\n",
    "    img_shape: Tuple,\n",
    "):\n",
    "    out_image = centroids[clusters % k][:, :3]\n",
    "    out_image = np.reshape(out_image, img_shape)\n",
    "    out_image = normalize_image(out_image)\n",
    "    return out_image\n",
    "\n",
    "\n",
    "def gray_image_from(\n",
    "    centroids: List[npt.NDArray[np.float32]],\n",
    "    clusters: List[int],\n",
    "    k: int,\n",
    "    img_shape: Tuple,\n",
    "):\n",
    "    out_image = centroids[clusters % k][:, 0]\n",
    "    out_image = np.reshape(out_image, img_shape)\n",
    "    out_image = normalize_image(out_image)\n",
    "    return out_image\n"
   ]
  },
  {
   "cell_type": "code",
   "execution_count": 76,
   "metadata": {},
   "outputs": [
    {
     "name": "stdout",
     "output_type": "stream",
     "text": [
      "0.5092147034511845\n"
     ]
    }
   ],
   "source": [
    "BASE_PATH = '../tests/resources/TestCases-InputImages'\n",
    "image_filename = os.path.join(BASE_PATH, 'image_1.png')\n",
    "ref_image_filename = os.path.join(BASE_PATH, 'image_1_ref3.png')\n",
    "attributes_type = 3\n",
    "k = 15\n",
    "n = 10\n",
    "seed = 190 #nice\n",
    "\n",
    "image = imageio.imread(image_filename).astype(np.float32)\n",
    "ref_image = imageio.imread(ref_image_filename).astype(np.float32)\n",
    "\n",
    "M, N, _ = image.shape\n",
    "\n",
    "match attributes_type:\n",
    "    case 1:\n",
    "        features = np.reshape(image, (M*N, 3))\n",
    "        centroids, clusters = k_means(features, k, n, M, N, seed)\n",
    "        out_image = rgb_image_from(centroids, clusters, k, (M, N, 3))\n",
    "    case 2:\n",
    "        XY = create_XY_features(M, N)\n",
    "        features = np.reshape(image, (M*N, 3))\n",
    "        features = np.concatenate((features, XY), axis=1)\n",
    "        centroids, clusters = k_means(features, k, n, M, N, seed)\n",
    "        out_image = rgb_image_from(centroids, clusters, k, (M, N, 3))\n",
    "    case 3:\n",
    "        features = lum_reshape(image, M, N)\n",
    "        centroids, clusters = k_means(features, k, n, M, N, seed)\n",
    "        out_image = gray_image_from(centroids, clusters, k, (M, N, 1))\n",
    "    case 4:\n",
    "        features = lum_reshape(image, M, N)\n",
    "        features = np.concatenate((features, create_XY_features(M, N)), axis=1)\n",
    "        centroids, clusters = k_means(features, k, n, M, N, seed)\n",
    "        out_image = gray_image_from(centroids, clusters, k, (M, N, 1))\n",
    "    case _:\n",
    "        exit(1)\n",
    "\n",
    "rmse = root_mean_sq_err(ref_image, out_image)\n",
    "print(rmse)\n"
   ]
  },
  {
   "cell_type": "code",
   "execution_count": 77,
   "metadata": {},
   "outputs": [
    {
     "data": {
      "text/plain": [
       "<matplotlib.image.AxesImage at 0x7f2ba9f315a0>"
      ]
     },
     "execution_count": 77,
     "metadata": {},
     "output_type": "execute_result"
    },
    {
     "data": {
      "image/png": "[encoded data removed]",
      "text/plain": [
       "<Figure size 2304x2304 with 1 Axes>"
      ]
     },
     "metadata": {
      "needs_background": "light"
     },
     "output_type": "display_data"
    }
   ],
   "source": [
    "import matplotlib.pyplot as plt\n",
    "\n",
    "plt.figure(figsize=(32, 32))\n",
    "plt.subplot(131)\n",
    "plt.imshow(out_image.astype(np.uint8), vmin=0, vmax=255)"
   ]
  },
  {
   "cell_type": "code",
   "execution_count": 78,
   "metadata": {},
   "outputs": [
    {
     "data": {
      "text/plain": [
       "(96, 96, 1)"
      ]
     },
     "execution_count": 78,
     "metadata": {},
     "output_type": "execute_result"
    }
   ],
   "source": [
    "out_image.shape\n"
   ]
  }
 ],
 "metadata": {
  "kernelspec": {
   "display_name": "Python 3.10.5 64-bit ('scc5830')",
   "language": "python",
   "name": "python3"
  },
  "language_info": {
   "codemirror_mode": {
    "name": "ipython",
    "version": 3
   },
   "file_extension": ".py",
   "mimetype": "text/x-python",
   "name": "python",
   "nbconvert_exporter": "python",
   "pygments_lexer": "ipython3",
   "version": "3.10.5"
  },
  "orig_nbformat": 4,
  "vscode": {
   "interpreter": {
    "hash": "2e22460957ec71c067c9e758ae7b7c144cf206edfc2ecb157d53c61dd27fd090"
   }
  }
 },
 "nbformat": 4,
 "nbformat_minor": 2
}
