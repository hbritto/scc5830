{
 "cells": [
  {
   "cell_type": "code",
   "execution_count": 92,
   "metadata": {},
   "outputs": [],
   "source": [
    "from collections import defaultdict\n",
    "from typing import List, Tuple\n",
    "\n",
    "import imageio.v2 as imageio\n",
    "import numpy as np\n",
    "import numpy.typing as npt\n",
    "import random\n",
    "import os\n"
   ]
  },
  {
   "cell_type": "code",
   "execution_count": 93,
   "metadata": {},
   "outputs": [],
   "source": [
    "# Calculate error\n",
    "def root_mean_sq_err(ref_image, gen_image):\n",
    "    m, n, _ = gen_image.shape\n",
    "    subtracted_image = gen_image - ref_image\n",
    "    squared_image = np.square(subtracted_image)\n",
    "    mean_image = squared_image / (n * m)\n",
    "    err = np.sum(mean_image)\n",
    "\n",
    "    return np.sqrt(err)\n"
   ]
  },
  {
   "cell_type": "code",
   "execution_count": 94,
   "metadata": {},
   "outputs": [],
   "source": [
    "def distance(\n",
    "    query: npt.NDArray[np.float32], reference: npt.NDArray[np.float32]\n",
    ") -> float:\n",
    "    return np.linalg.norm(query - reference)\n",
    "\n",
    "\n",
    "def find_closest_cluster(\n",
    "    feature: npt.NDArray[np.float32], centroids: List[npt.NDArray[np.float32]]\n",
    ") -> int:\n",
    "    centr_ranks = [distance(feature, centroid) for centroid in centroids]\n",
    "    closest = np.argmin(centr_ranks)\n",
    "    return closest\n"
   ]
  },
  {
   "cell_type": "code",
   "execution_count": 95,
   "metadata": {},
   "outputs": [],
   "source": [
    "def k_means(\n",
    "    features: npt.NDArray[np.float32],\n",
    "    k: int,\n",
    "    n: int,\n",
    "    M: int,\n",
    "    N: int,\n",
    "    seed: int,\n",
    ") -> List[int]:\n",
    "    random.seed(seed)\n",
    "    ids = np.sort(random.sample(range(0, M * N), k))\n",
    "    centroids = features[ids]\n",
    "    clusters = np.zeros(features.shape, dtype=np.uint8)\n",
    "    for _ in range(n):\n",
    "        for index, feature in enumerate(features):\n",
    "            closest_idx = find_closest_cluster(feature, centroids)\n",
    "            clusters[index] = closest_idx\n",
    "        for cluster in range(k):\n",
    "            centroids[cluster] = np.mean(features[np.where(clusters == cluster)], axis=0)\n",
    "    segmented = np.zeros_like(features)\n",
    "    for index in range(len(clusters)):\n",
    "        segmented[index] = centroids[clusters[index]]\n",
    "    return segmented\n"
   ]
  },
  {
   "cell_type": "code",
   "execution_count": 96,
   "metadata": {},
   "outputs": [],
   "source": [
    "def create_XY_features(M, N):\n",
    "    X = np.tile(np.reshape(np.arange(M), (M, 1)), (1, N))\n",
    "    Y = np.tile(np.reshape(np.arange(N), (N, 1)), (M, 1))\n",
    "    X = np.reshape(X, (M * N, 1))\n",
    "    Y = np.reshape(Y, (M * N, 1))\n",
    "    XY = np.concatenate((X, Y), axis=1)\n",
    "    return XY\n",
    "\n",
    "\n",
    "def lum_reshape(image, M, N):\n",
    "    return np.reshape(\n",
    "        (0.299 * image[:, :, 0]) + (0.587 * image[:, :, 1]) + (0.114 * image[:, :, 2]),\n",
    "        (M * N, 1),\n",
    "    )\n"
   ]
  },
  {
   "cell_type": "code",
   "execution_count": 97,
   "metadata": {},
   "outputs": [],
   "source": [
    "def rgb_image_from(\n",
    "    segmented: List[npt.NDArray[np.float32]],\n",
    "    img_shape: Tuple,\n",
    "):\n",
    "    out_image = np.reshape(segmented, img_shape)\n",
    "    return out_image\n",
    "\n",
    "\n",
    "def gray_image_from(clusters, feat_shape, img_shape):\n",
    "    out_image = np.zeros(feat_shape, dtype=np.float32)\n",
    "    for index, centroid in clusters.items():\n",
    "        out_image[index] = centroid\n",
    "    out_image = np.reshape(out_image, img_shape)\n",
    "    return out_image\n"
   ]
  },
  {
   "cell_type": "code",
   "execution_count": 98,
   "metadata": {},
   "outputs": [
    {
     "ename": "ValueError",
     "evalue": "could not broadcast input array from shape (3,3) into shape (3,)",
     "output_type": "error",
     "traceback": [
      "\u001b[0;31m---------------------------------------------------------------------------\u001b[0m",
      "\u001b[0;31mValueError\u001b[0m                                Traceback (most recent call last)",
      "\u001b[1;32m/home/hbritto/code/usp/scc5830/scc5830/as6/as6/as6.ipynb Cell 7\u001b[0m in \u001b[0;36m<cell line: 14>\u001b[0;34m()\u001b[0m\n\u001b[1;32m     <a href='vscode-notebook-cell:/home/hbritto/code/usp/scc5830/scc5830/as6/as6/as6.ipynb#ch0000006?line=9'>10</a>\u001b[0m ref_image \u001b[39m=\u001b[39m imageio\u001b[39m.\u001b[39mimread(ref_image_filename)\u001b[39m.\u001b[39mastype(np\u001b[39m.\u001b[39mfloat32)\n\u001b[1;32m     <a href='vscode-notebook-cell:/home/hbritto/code/usp/scc5830/scc5830/as6/as6/as6.ipynb#ch0000006?line=11'>12</a>\u001b[0m M, N, _ \u001b[39m=\u001b[39m image\u001b[39m.\u001b[39mshape\n\u001b[1;32m     <a href='vscode-notebook-cell:/home/hbritto/code/usp/scc5830/scc5830/as6/as6/as6.ipynb#ch0000006?line=13'>14</a>\u001b[0m \u001b[39mmatch\u001b[39;00m attributes_type:\n\u001b[1;32m     <a href='vscode-notebook-cell:/home/hbritto/code/usp/scc5830/scc5830/as6/as6/as6.ipynb#ch0000006?line=14'>15</a>\u001b[0m     \u001b[39mcase\u001b[39;00m \u001b[39m1\u001b[39m:\n\u001b[1;32m     <a href='vscode-notebook-cell:/home/hbritto/code/usp/scc5830/scc5830/as6/as6/as6.ipynb#ch0000006?line=15'>16</a>\u001b[0m         features \u001b[39m=\u001b[39m np\u001b[39m.\u001b[39mreshape(image, (M\u001b[39m*\u001b[39mN, \u001b[39m3\u001b[39m))\n\u001b[0;32m---> <a href='vscode-notebook-cell:/home/hbritto/code/usp/scc5830/scc5830/as6/as6/as6.ipynb#ch0000006?line=16'>17</a>\u001b[0m         clusters \u001b[39m=\u001b[39m k_means(features, k, n, M, N, seed)\n\u001b[1;32m     <a href='vscode-notebook-cell:/home/hbritto/code/usp/scc5830/scc5830/as6/as6/as6.ipynb#ch0000006?line=17'>18</a>\u001b[0m         out_image \u001b[39m=\u001b[39m rgb_image_from(clusters, features\u001b[39m.\u001b[39mshape, (M, N, \u001b[39m3\u001b[39m))\n\u001b[1;32m     <a href='vscode-notebook-cell:/home/hbritto/code/usp/scc5830/scc5830/as6/as6/as6.ipynb#ch0000006?line=18'>19</a>\u001b[0m     \u001b[39mcase\u001b[39;00m \u001b[39m2\u001b[39m:\n\u001b[1;32m     <a href='vscode-notebook-cell:/home/hbritto/code/usp/scc5830/scc5830/as6/as6/as6.ipynb#ch0000006?line=19'>20</a>\u001b[0m         XY \u001b[39m=\u001b[39m create_XY_features(M, N)\n\u001b[1;32m     <a href='vscode-notebook-cell:/home/hbritto/code/usp/scc5830/scc5830/as6/as6/as6.ipynb#ch0000006?line=20'>21</a>\u001b[0m         features \u001b[39m=\u001b[39m np\u001b[39m.\u001b[39mreshape(image, (M\u001b[39m*\u001b[39mN, \u001b[39m3\u001b[39m))\n\u001b[1;32m     <a href='vscode-notebook-cell:/home/hbritto/code/usp/scc5830/scc5830/as6/as6/as6.ipynb#ch0000006?line=21'>22</a>\u001b[0m         features \u001b[39m=\u001b[39m np\u001b[39m.\u001b[39mconcatenate((features, XY), axis\u001b[39m=\u001b[39m\u001b[39m1\u001b[39m)\n\u001b[1;32m     <a href='vscode-notebook-cell:/home/hbritto/code/usp/scc5830/scc5830/as6/as6/as6.ipynb#ch0000006?line=22'>23</a>\u001b[0m         clusters \u001b[39m=\u001b[39m k_means(features, k, n, M, N, seed)\n\u001b[1;32m     <a href='vscode-notebook-cell:/home/hbritto/code/usp/scc5830/scc5830/as6/as6/as6.ipynb#ch0000006?line=23'>24</a>\u001b[0m         out_image \u001b[39m=\u001b[39m rgb_image_from(clusters, features\u001b[39m.\u001b[39mshape, (M, N, \u001b[39m3\u001b[39m))\n\u001b[1;32m     <a href='vscode-notebook-cell:/home/hbritto/code/usp/scc5830/scc5830/as6/as6/as6.ipynb#ch0000006?line=24'>25</a>\u001b[0m     \u001b[39mcase\u001b[39;00m \u001b[39m3\u001b[39m:\n\u001b[1;32m     <a href='vscode-notebook-cell:/home/hbritto/code/usp/scc5830/scc5830/as6/as6/as6.ipynb#ch0000006?line=25'>26</a>\u001b[0m         features \u001b[39m=\u001b[39m lum_reshape(image, M, N)\n\u001b[1;32m     <a href='vscode-notebook-cell:/home/hbritto/code/usp/scc5830/scc5830/as6/as6/as6.ipynb#ch0000006?line=26'>27</a>\u001b[0m         rgb \u001b[39m=\u001b[39m \u001b[39m0\u001b[39m\n\u001b[1;32m     <a href='vscode-notebook-cell:/home/hbritto/code/usp/scc5830/scc5830/as6/as6/as6.ipynb#ch0000006?line=27'>28</a>\u001b[0m         clusters \u001b[39m=\u001b[39m k_means(features, k, n, M, N, seed)\n\u001b[1;32m     <a href='vscode-notebook-cell:/home/hbritto/code/usp/scc5830/scc5830/as6/as6/as6.ipynb#ch0000006?line=28'>29</a>\u001b[0m         out_image \u001b[39m=\u001b[39m gray_image_from(clusters, features\u001b[39m.\u001b[39mshape, (M, N, \u001b[39m1\u001b[39m))\n\u001b[1;32m     <a href='vscode-notebook-cell:/home/hbritto/code/usp/scc5830/scc5830/as6/as6/as6.ipynb#ch0000006?line=29'>30</a>\u001b[0m     \u001b[39mcase\u001b[39;00m \u001b[39m4\u001b[39m:\n\u001b[1;32m     <a href='vscode-notebook-cell:/home/hbritto/code/usp/scc5830/scc5830/as6/as6/as6.ipynb#ch0000006?line=30'>31</a>\u001b[0m         features \u001b[39m=\u001b[39m lum_reshape(image, M, N)\n\u001b[1;32m     <a href='vscode-notebook-cell:/home/hbritto/code/usp/scc5830/scc5830/as6/as6/as6.ipynb#ch0000006?line=31'>32</a>\u001b[0m         features \u001b[39m=\u001b[39m np\u001b[39m.\u001b[39mconcatenate((features, create_XY_features(M, N)), axis\u001b[39m=\u001b[39m\u001b[39m1\u001b[39m)\n\u001b[1;32m     <a href='vscode-notebook-cell:/home/hbritto/code/usp/scc5830/scc5830/as6/as6/as6.ipynb#ch0000006?line=32'>33</a>\u001b[0m         rgb \u001b[39m=\u001b[39m \u001b[39m0\u001b[39m\n\u001b[1;32m     <a href='vscode-notebook-cell:/home/hbritto/code/usp/scc5830/scc5830/as6/as6/as6.ipynb#ch0000006?line=33'>34</a>\u001b[0m         clusters \u001b[39m=\u001b[39m k_means(features, k, n, M, N, seed)\n\u001b[1;32m     <a href='vscode-notebook-cell:/home/hbritto/code/usp/scc5830/scc5830/as6/as6/as6.ipynb#ch0000006?line=34'>35</a>\u001b[0m         out_image \u001b[39m=\u001b[39m gray_image_from(clusters, features\u001b[39m.\u001b[39mshape, (M, N, \u001b[39m1\u001b[39m))\n\u001b[1;32m     <a href='vscode-notebook-cell:/home/hbritto/code/usp/scc5830/scc5830/as6/as6/as6.ipynb#ch0000006?line=35'>36</a>\u001b[0m     \u001b[39mcase\u001b[39;00m \u001b[39m_\u001b[39;00m:\n\u001b[1;32m     <a href='vscode-notebook-cell:/home/hbritto/code/usp/scc5830/scc5830/as6/as6/as6.ipynb#ch0000006?line=36'>37</a>\u001b[0m         exit(\u001b[39m1\u001b[39m)\n\u001b[1;32m     <a href='vscode-notebook-cell:/home/hbritto/code/usp/scc5830/scc5830/as6/as6/as6.ipynb#ch0000006?line=38'>39</a>\u001b[0m rmse \u001b[39m=\u001b[39m root_mean_sq_err(ref_image, out_image)\n\u001b[1;32m     <a href='vscode-notebook-cell:/home/hbritto/code/usp/scc5830/scc5830/as6/as6/as6.ipynb#ch0000006?line=39'>40</a>\u001b[0m \u001b[39mprint\u001b[39m(rmse)\n",
      "\u001b[1;32m/home/hbritto/code/usp/scc5830/scc5830/as6/as6/as6.ipynb Cell 7\u001b[0m in \u001b[0;36mk_means\u001b[0;34m(features, k, n, M, N, seed)\u001b[0m\n\u001b[1;32m     <a href='vscode-notebook-cell:/home/hbritto/code/usp/scc5830/scc5830/as6/as6/as6.ipynb#ch0000006?line=18'>19</a>\u001b[0m segmented \u001b[39m=\u001b[39m np\u001b[39m.\u001b[39mzeros_like(features)\n\u001b[1;32m     <a href='vscode-notebook-cell:/home/hbritto/code/usp/scc5830/scc5830/as6/as6/as6.ipynb#ch0000006?line=19'>20</a>\u001b[0m \u001b[39mfor\u001b[39;00m index \u001b[39min\u001b[39;00m \u001b[39mrange\u001b[39m(\u001b[39mlen\u001b[39m(clusters)):\n\u001b[0;32m---> <a href='vscode-notebook-cell:/home/hbritto/code/usp/scc5830/scc5830/as6/as6/as6.ipynb#ch0000006?line=20'>21</a>\u001b[0m     segmented[index] \u001b[39m=\u001b[39m centroids[clusters[index]]\n\u001b[1;32m     <a href='vscode-notebook-cell:/home/hbritto/code/usp/scc5830/scc5830/as6/as6/as6.ipynb#ch0000006?line=21'>22</a>\u001b[0m \u001b[39mreturn\u001b[39;00m segmented\n",
      "\u001b[0;31mValueError\u001b[0m: could not broadcast input array from shape (3,3) into shape (3,)"
     ]
    }
   ],
   "source": [
    "BASE_PATH = '../tests/resources/TestCases-InputImages'\n",
    "image_filename = os.path.join(BASE_PATH, 'image_1.png')\n",
    "ref_image_filename = os.path.join(BASE_PATH, 'image_1_ref1.png')\n",
    "attributes_type = 1\n",
    "k = 5\n",
    "n = 10\n",
    "seed = 42 #nice\n",
    "\n",
    "image = imageio.imread(image_filename).astype(np.float32)\n",
    "ref_image = imageio.imread(ref_image_filename).astype(np.float32)\n",
    "\n",
    "M, N, _ = image.shape\n",
    "\n",
    "match attributes_type:\n",
    "    case 1:\n",
    "        features = np.reshape(image, (M*N, 3))\n",
    "        clusters = k_means(features, k, n, M, N, seed)\n",
    "        out_image = rgb_image_from(clusters, features.shape, (M, N, 3))\n",
    "    case 2:\n",
    "        XY = create_XY_features(M, N)\n",
    "        features = np.reshape(image, (M*N, 3))\n",
    "        features = np.concatenate((features, XY), axis=1)\n",
    "        clusters = k_means(features, k, n, M, N, seed)\n",
    "        out_image = rgb_image_from(clusters, features.shape, (M, N, 3))\n",
    "    case 3:\n",
    "        features = lum_reshape(image, M, N)\n",
    "        rgb = 0\n",
    "        clusters = k_means(features, k, n, M, N, seed)\n",
    "        out_image = gray_image_from(clusters, features.shape, (M, N, 1))\n",
    "    case 4:\n",
    "        features = lum_reshape(image, M, N)\n",
    "        features = np.concatenate((features, create_XY_features(M, N)), axis=1)\n",
    "        rgb = 0\n",
    "        clusters = k_means(features, k, n, M, N, seed)\n",
    "        out_image = gray_image_from(clusters, features.shape, (M, N, 1))\n",
    "    case _:\n",
    "        exit(1)\n",
    "\n",
    "rmse = root_mean_sq_err(ref_image, out_image)\n",
    "print(rmse)\n"
   ]
  },
  {
   "cell_type": "code",
   "execution_count": null,
   "metadata": {},
   "outputs": [],
   "source": [
    "import matplotlib.pyplot as plt\n",
    "\n",
    "plt.figure(figsize=(32, 32))\n",
    "plt.subplot(131)\n",
    "plt.imshow(out_image.astype(np.uint8))"
   ]
  },
  {
   "cell_type": "code",
   "execution_count": null,
   "metadata": {},
   "outputs": [],
   "source": [
    "out_image.shape\n"
   ]
  }
 ],
 "metadata": {
  "kernelspec": {
   "display_name": "Python 3.10.5 64-bit ('scc5830')",
   "language": "python",
   "name": "python3"
  },
  "language_info": {
   "codemirror_mode": {
    "name": "ipython",
    "version": 3
   },
   "file_extension": ".py",
   "mimetype": "text/x-python",
   "name": "python",
   "nbconvert_exporter": "python",
   "pygments_lexer": "ipython3",
   "version": "3.10.5"
  },
  "orig_nbformat": 4,
  "vscode": {
   "interpreter": {
    "hash": "2e22460957ec71c067c9e758ae7b7c144cf206edfc2ecb157d53c61dd27fd090"
   }
  }
 },
 "nbformat": 4,
 "nbformat_minor": 2
}
